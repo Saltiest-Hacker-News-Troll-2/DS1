{
  "nbformat": 4,
  "nbformat_minor": 0,
  "metadata": {
    "colab": {
      "name": "HN_SA_Model.ipynb",
      "provenance": []
    },
    "kernelspec": {
      "name": "python3",
      "display_name": "Python 3"
    }
  },
  "cells": [
    {
      "cell_type": "markdown",
      "metadata": {
        "id": "k8xlt6z_WkJo",
        "colab_type": "text"
      },
      "source": [
        "## Installing vaderSentiment\n"
      ]
    },
    {
      "cell_type": "code",
      "metadata": {
        "id": "4_LaHK_1jSfv",
        "colab_type": "code",
        "colab": {
          "base_uri": "https://localhost:8080/",
          "height": 35
        },
        "outputId": "b61a6437-ae98-42a1-bebf-60e759f06815"
      },
      "source": [
        "# pip installing so that vaderSentiment works in colab\n",
        "pip install vaderSentiment"
      ],
      "execution_count": 1,
      "outputs": [
        {
          "output_type": "stream",
          "text": [
            "Requirement already satisfied: vaderSentiment in /usr/local/lib/python3.6/dist-packages (3.2.1)\n"
          ],
          "name": "stdout"
        }
      ]
    },
    {
      "cell_type": "markdown",
      "metadata": {
        "id": "Iv8DvCouXBoI",
        "colab_type": "text"
      },
      "source": [
        "## Some Dummy Code"
      ]
    },
    {
      "cell_type": "code",
      "metadata": {
        "id": "ifYlxQBmjZmi",
        "colab_type": "code",
        "colab": {}
      },
      "source": [
        "#Example sentences\n",
        "sentence1 = \"I hate everyone at Hacker News, you all suck and I hope you have a rotten day\"\n",
        "sentence2 = \"I love everyone at Hacker News! you all make me feel warm and fuzzy inside\"\n",
        "sentence3 = \"I mostly like everyone at Hacker News, but sometimes this site is toxic\"\n",
        "#Example lists\n",
        "sentence_list = [sentence1, sentence2, sentence3]\n",
        "negative_list = [sentence1, sentence1, sentence1]"
      ],
      "execution_count": 0,
      "outputs": []
    },
    {
      "cell_type": "markdown",
      "metadata": {
        "id": "ghnYmgrdWpI0",
        "colab_type": "text"
      },
      "source": [
        "## Playing with vaderSentiment Analysis from this tutorial https://www.geeksforgeeks.org/python-sentiment-analysis-using-vader/\n"
      ]
    },
    {
      "cell_type": "code",
      "metadata": {
        "id": "v16BRlSOjXEp",
        "colab_type": "code",
        "colab": {}
      },
      "source": [
        "# import SentimentIntensityAnalyzer class \n",
        "# from vaderSentiment.vaderSentiment module. \n",
        "from vaderSentiment.vaderSentiment import SentimentIntensityAnalyzer \n",
        "  \n",
        "# function to print sentiments \n",
        "# of the sentence. \n",
        "def sentiment_scores(sentence): \n",
        "  \n",
        "    # Create a SentimentIntensityAnalyzer object. \n",
        "    sid_obj = SentimentIntensityAnalyzer() \n",
        "  \n",
        "    # polarity_scores method of SentimentIntensityAnalyzer \n",
        "    # oject gives a sentiment dictionary. \n",
        "    # which contains pos, neg, neu, and compound scores. \n",
        "    sentiment_dict = sid_obj.polarity_scores(sentence) \n",
        "      \n",
        "    print(\"Overall sentiment dictionary is : \", sentiment_dict['compound']) \n",
        "    print(\"sentence was rated as \", sentiment_dict['neg']*100, \"% Negative\") \n",
        "    print(\"sentence was rated as \", sentiment_dict['neu']*100, \"% Neutral\") \n",
        "    print(\"sentence was rated as \", sentiment_dict['pos']*100, \"% Positive\") \n",
        "  \n",
        "    print(\"Sentence Overall Rated As\", end = \" \") \n",
        "  \n",
        "    # decide sentiment as positive, negative and neutral \n",
        "    if sentiment_dict['compound'] >= 0.05 : \n",
        "        print(\"Positive\") \n",
        "  \n",
        "    elif sentiment_dict['compound'] <= - 0.05 : \n",
        "        print(\"Negative\") \n",
        "  \n",
        "    else : \n",
        "        print(\"Neutral\") "
      ],
      "execution_count": 0,
      "outputs": []
    },
    {
      "cell_type": "code",
      "metadata": {
        "id": "rRlmAmfMXHA5",
        "colab_type": "code",
        "colab": {
          "base_uri": "https://localhost:8080/",
          "height": 277
        },
        "outputId": "00786387-e358-48a9-ef71-32b86fc39e99"
      },
      "source": [
        "for sentence in sentence_list:\n",
        "  sentiment_scores(sentence)"
      ],
      "execution_count": 4,
      "outputs": [
        {
          "output_type": "stream",
          "text": [
            "Overall sentiment dictionary is :  -0.7906\n",
            "sentence was rated as  43.4 % Negative\n",
            "sentence was rated as  43.9 % Neutral\n",
            "sentence was rated as  12.7 % Positive\n",
            "Sentence Overall Rated As Negative\n",
            "Overall sentiment dictionary is :  0.75\n",
            "sentence was rated as  0.0 % Negative\n",
            "sentence was rated as  65.2 % Neutral\n",
            "sentence was rated as  34.8 % Positive\n",
            "Sentence Overall Rated As Positive\n",
            "Overall sentiment dictionary is :  0.1901\n",
            "sentence was rated as  0.0 % Negative\n",
            "sentence was rated as  86.3 % Neutral\n",
            "sentence was rated as  13.700000000000001 % Positive\n",
            "Sentence Overall Rated As Positive\n"
          ],
          "name": "stdout"
        }
      ]
    },
    {
      "cell_type": "markdown",
      "metadata": {
        "id": "dQDaIqavXW2x",
        "colab_type": "text"
      },
      "source": [
        "## Making my own functions for single and total sentiment analysis"
      ]
    },
    {
      "cell_type": "code",
      "metadata": {
        "id": "-2LvQ_pVQwGX",
        "colab_type": "code",
        "colab": {}
      },
      "source": [
        "# My custom function to take an individual sentence and give it a score\n",
        "def custom_score(sentence):\n",
        "  # Create a SentimentIntensityAnalyzer object. \n",
        "  sid_obj = SentimentIntensityAnalyzer() \n",
        "\n",
        "  # polarity_scores method of SentimentIntensityAnalyzer \n",
        "  # oject gives a sentiment dictionary.  \n",
        "  sentiment_dict = sid_obj.polarity_scores(sentence)\n",
        "\n",
        "  return sentiment_dict['compound'] "
      ],
      "execution_count": 0,
      "outputs": []
    },
    {
      "cell_type": "code",
      "metadata": {
        "id": "kfgmFMgKRE8t",
        "colab_type": "code",
        "colab": {}
      },
      "source": [
        "#Compound sum of scores\n",
        "def compound_sum_score(sentence_list):\n",
        "  \n",
        "  troll_lst = []\n",
        "\n",
        "\n",
        "  for sentence in sentence_list:\n",
        "    troll_lst.append(custom_score(sentence))\n",
        "\n",
        "  troll_score = sum(troll_lst) / len(troll_lst)\n",
        "\n",
        "\n",
        "  return troll_score "
      ],
      "execution_count": 0,
      "outputs": []
    },
    {
      "cell_type": "markdown",
      "metadata": {
        "id": "Uq6x8nooXf-B",
        "colab_type": "text"
      },
      "source": [
        "## Using my functions to see if they work"
      ]
    },
    {
      "cell_type": "code",
      "metadata": {
        "id": "TKIfO7Jkjjjn",
        "colab_type": "code",
        "outputId": "3a563363-8c1c-41ce-a000-a15c7407ba8f",
        "colab": {
          "base_uri": "https://localhost:8080/",
          "height": 69
        }
      },
      "source": [
        "#Running example sentences through individual scores\n",
        "for sentence in sentence_list:\n",
        "  print(sentence, custom_score(sentence))"
      ],
      "execution_count": 7,
      "outputs": [
        {
          "output_type": "stream",
          "text": [
            "I hate everyone at Hacker News, you all suck and I hope you have a rotten day -0.7906\n",
            "I love everyone at Hacker News! you all make me feel warm and fuzzy inside 0.75\n",
            "I mostly like everyone at Hacker News, but sometimes this site is toxic 0.1901\n"
          ],
          "name": "stdout"
        }
      ]
    },
    {
      "cell_type": "code",
      "metadata": {
        "id": "OCvr94FHTXyr",
        "colab_type": "code",
        "outputId": "acc77894-5848-4936-ece2-6232ccccb5c4",
        "colab": {
          "base_uri": "https://localhost:8080/",
          "height": 35
        }
      },
      "source": [
        "#Test run\n",
        "compound_sum_score(negative_list)"
      ],
      "execution_count": 8,
      "outputs": [
        {
          "output_type": "execute_result",
          "data": {
            "text/plain": [
              "-0.7906"
            ]
          },
          "metadata": {
            "tags": []
          },
          "execution_count": 8
        }
      ]
    }
  ]
}